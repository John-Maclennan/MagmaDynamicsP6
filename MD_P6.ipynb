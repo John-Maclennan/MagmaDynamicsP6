{
 "cells": [
  {
   "cell_type": "markdown",
   "metadata": {},
   "source": [
    "# Magma Dynamics Practical 6: Simple Diffusion Modelling #\n",
    "## John Maclennan, February 2021 ##\n"
   ]
  },
  {
   "cell_type": "markdown",
   "metadata": {},
   "source": [
    "## Diffusion Chronometry\n",
    "\n",
    "Diffusion chronometry is one of the fastest growing fields in petrology. It holds great potential for furthering our understanding of magmatic processes. The essence of the method is that the growth of individual crystals can take place across a range of $(P,T,X)$ producing crystal zones that are not in chemical equilibrium with each other or the host liquid at any single $(P,T,X)$. This disequilibrium, variation in the chemical potentials, provides a driver for diffusion. Diffusion ultimately acts to redistribute the elements to provide the minimum free energy arrangement of chemically homogenous phase. For a very quick introduction to some of the sorts of observations that can be useful in diffusion chronometry, you you take a look at the diagrams in [Costa et al., 2020](https://www.nature.com/articles/s43017-020-0038-x).\n",
    "\n",
    "### Fick's First and Second Laws\n",
    "Practically speaking, diffusion modelling involves direct fitting of concentration profiles that have been measured in igneous crystals. In some more advanced cases, such as Mg-in-plagioclase, it is necessary to fit chemical activities rather than concentrations. Fick's first law states that:\n",
    "\n",
    "$J_i = -D_i \\nabla C_i$\n",
    "\n",
    "where $J_i$ is the flux of element $i$, $C_i$ is the concentration of that component and $D$ is called the diffusion coefficient. This is the general 3D form of the expression and clearly all sorts of richness of behaviour can be created in nature with 3D variations in concentration and anisotropic diffusion (like in olivine). We'll simplify to 1D in a moment (which means that the $\\nabla$ from vector calculus will be replaced by partial differential operators).\n",
    "\n",
    "Fick's second law gives the change in concentration of the element that arises from this flux (dropping the $i$s:\n",
    "\n",
    "$\\frac{\\partial C}{\\partial t} = \\nabla . (D \\nabla C)$\n",
    "\n",
    "If we convert this into the 1D case with $x$ being distance we find:\n",
    "\n",
    "$\\frac{\\partial C}{\\partial t} = \\frac{\\partial}{\\partial x} D \\frac{\\partial C}{\\partial x}$\n",
    "\n",
    "In general $D$ is a function of the changing crystal major element composition, such as the forsterite content of olivine or anorthite content of plagioclase. When the major element composition changes within a crystal, it means that $D$ will vary within that crystal, so the general above equation must be solved. In some simple systems it is acceptable to assume that $D$ is constant throughout the crystal, providing the familiar simple version of the diffusion equation:\n",
    "\n",
    "$\\frac{\\partial C}{\\partial t} = D \\frac{\\partial^{2} C}{\\partial x^{2}}$\n",
    "\n",
    "In order to solve this equation it is necessary to provide initial and boundary conditions.\n",
    "\n",
    "### Application to Initially Uniform Crystal\n",
    "One situation that is commonly assumed is that a crystal interior is initially homogeneous and has a composition $C_1$. The boundary conditions then changes, perhaps because of a change in the carrier liquid composition, such that the composition of crystal in equilibrium with the liquid is $C_2$. If the compositional rim is thin in comparison to the length of the face, the 1D solution may be appropriate. The solution to this type of problem is given by  \n",
    "\n",
    "$C(x,t) = C_1 + \\Delta C \\left[1 - {\\rm erf}\\left( \\frac{x}{\\sqrt{4Dt}}\\right) \\right]$\n",
    "\n",
    "with $C(x,t)$ being the concentration as a function of position, $x$ and time, $t$. The difference in composition between the crystal rim (in equilibrium with the external liquid) and the crystal core is given as $\\Delta C = C_2 - C_1$ and the [error function](https://en.wikipedia.org/wiki/Error_function#:~:text=In%20mathematics%2C%20the%20error%20function,statistics%2C%20and%20partial%20differential%20equations.) is defined as,\n",
    "\n",
    "${\\rm erf}(z) = \\frac{2}{\\sqrt{\\pi}} \\int_0^z \\exp{(-\\psi^2)} d\\psi$.\n",
    "\n",
    "You might be able to see that expression is related the area under a normal distribution curve. The error function appears as part of the solution in many diffusion problems. A classic textbook for providing handy analytical solutions to an impressive array of diffusion problems is the Conduction of Heat in Solids by Carslaw and Jaeger.  \n",
    "\n",
    "This particular problem can be modelled in python using the chunk of code in the next cell. Please change the labels and experiment with changing the time and the distance range and the rim (set at $x=0$ in this case) and initial core compositions. A useful skill is to be able to plot extra lines on the figure. There was an example of this provided in the previous practical. You could show the compositional profiles at varying times, and/or show the characteristic diffusion distance for a given time. "
   ]
  },
  {
   "cell_type": "code",
   "execution_count": 33,
   "metadata": {},
   "outputs": [
    {
     "data": {
      "image/png": "[encoded data removed]",
      "text/plain": [
       "<Figure size 432x288 with 1 Axes>"
      ]
     },
     "metadata": {
      "needs_background": "light"
     },
     "output_type": "display_data"
    }
   ],
   "source": [
    "import matplotlib\n",
    "import matplotlib.pyplot as plt\n",
    "import numpy as np # numpy, which is great for scientific computing and dealing with arrays, doesn't have erf built in\n",
    "from scipy.special import erf # the scipy package does, however\n",
    "\n",
    "\n",
    "D = 1.e-20 # diffusion coefficient in m2/s\n",
    "t = 1.e12 # time in seconds\n",
    "C1 = 4000. # original concentration of element in crystal\n",
    "C2 = 3000. # final concentration in equilibrium with host melt\n",
    "delC = C2-C1\n",
    "a = (4.*D*t)**0.5 # characteristic lengthscale in m\n",
    "\n",
    "xx = np.arange(0.000000001,0.001, 0.00001)\n",
    "\n",
    "#xx = 0.00001\n",
    "\n",
    "\n",
    "CC = (C1 + delC*(1. - erf(np.divide(xx,a))))\n",
    "\n",
    "fig, ax = plt.subplots()\n",
    "ax.plot(xx, CC)\n",
    "\n",
    "ax.set(xlabel='Hulk Hogan (Units)', ylabel='Giant Haystack (Units)',\n",
    "       title='Wrestling with diffusion')\n",
    "ax.grid()\n",
    "\n",
    "#fig.savefig(\"test.png\")\n",
    "plt.show()\n"
   ]
  },
  {
   "cell_type": "markdown",
   "metadata": {},
   "source": [
    "Have a look at Figure 3 in [Hartley et al. (2016)](https://www.sciencedirect.com/science/article/pii/S0012821X16000340#fg0030). The variation in the greyscale intensity in backscattered electron (BSE) images of olivines from Laki are controlled by variations in the mean atomic mass. In a simple solid solution between fosterite and fayalite, this provides a map of Fo content: with a linear scaling between BSE grayscale intensity value and olivine composition. Try to model the interdiffusion of Fe-Mg using an effective diffusion coefficient of $D=10^{-16}$ m$^2$ s$^{-1}$ by varying the parameters in the code chunk above. "
   ]
  },
  {
   "cell_type": "markdown",
   "metadata": {},
   "source": [
    "**Q1) What are your estimates of the timescale of diffusion required to form these rims? How do your results compare with those of Hartley et al?**\n",
    "\n",
    "A1) Answer here"
   ]
  },
  {
   "cell_type": "markdown",
   "metadata": {},
   "source": [
    "**Q2) Speculate on some causes of uncertainty in this timescale estimate.**\n",
    "\n",
    "A2) Answer here"
   ]
  },
  {
   "cell_type": "markdown",
   "metadata": {},
   "source": [
    "**Q3) How effective is the use of the characteristic diffusion lengthscale $Dt$ as a timescale estimate?**\n",
    "\n",
    "A3) Answer here"
   ]
  },
  {
   "cell_type": "markdown",
   "metadata": {},
   "source": [
    "**Q4) How should we interpret these timescales? What might they mean in terms of process?**\n",
    "\n",
    "A4) Answer here"
   ]
  },
  {
   "cell_type": "markdown",
   "metadata": {},
   "source": [
    "If you wanted to do this sort of thing with some real olivines, then the [ImageJ](https://imagej.nih.gov/ij/) software is an easy-to-use and powerful method for calibrating BSE maps using electron probe data and extracting 2D profiles for modelling. We have also been trying to build everything into single python programs using the [HyperSpy](https://hyperspy.org/) package which is partly developed by Materials Science."
   ]
  },
  {
   "cell_type": "markdown",
   "metadata": {},
   "source": [
    "### Temperature-Dependence of the Diffusion Coefficient"
   ]
  },
  {
   "cell_type": "markdown",
   "metadata": {},
   "source": [
    "Diffusion is a strongly temperature-dependent process. This temperature-dependence is usally modelled using an Arrhennian relationship of the form\n",
    "\n",
    "$D = D_0 \\exp{\\left(\\frac{-E_a}{RT}\\right)}$\n",
    "\n",
    "with $R$ being the Gas Constant, $T$ temperature in Kelvin, $E_a$ the activation energy for diffusion and $D_0$ the diffusivity extrapolated to infinite temperature. \n",
    "\n",
    "Some experimental data from the classic study of [Chakraborty (1997)](https://agupubs.onlinelibrary.wiley.com/doi/epdf/10.1029/97JB00208) is presented in a table below."
   ]
  },
  {
   "cell_type": "code",
   "execution_count": 13,
   "metadata": {},
   "outputs": [],
   "source": [
    "import pandas as pd # pandas is the python package for handling large datasets - something that the R programming language is even better at\n",
    "\n",
    "Tc = pd.Series([1200,1100,1250,1200,1050,1300], name=\"Tc\") # temperatures in degrees C\n",
    "Dd = pd.Series([5.80E-17,5.50E-18,3.40E-17,1.80E-17,3.10E-18,2.00E-16], name =\"D\") # diffusion coefficients in m2 s-1\n",
    "Ddat = pd.concat([Tc,Dd], axis = 1) # bind together and transpose these rows"
   ]
  },
  {
   "cell_type": "markdown",
   "metadata": {},
   "source": [
    "You can look at the data in a table like this:"
   ]
  },
  {
   "cell_type": "code",
   "execution_count": 14,
   "metadata": {},
   "outputs": [
    {
     "data": {
      "text/html": [
       "<div>\n",
       "<style scoped>\n",
       "    .dataframe tbody tr th:only-of-type {\n",
       "        vertical-align: middle;\n",
       "    }\n",
       "\n",
       "    .dataframe tbody tr th {\n",
       "        vertical-align: top;\n",
       "    }\n",
       "\n",
       "    .dataframe thead th {\n",
       "        text-align: right;\n",
       "    }\n",
       "</style>\n",
       "<table border=\"1\" class=\"dataframe\">\n",
       "  <thead>\n",
       "    <tr style=\"text-align: right;\">\n",
       "      <th></th>\n",
       "      <th>Tc</th>\n",
       "      <th>D</th>\n",
       "    </tr>\n",
       "  </thead>\n",
       "  <tbody>\n",
       "    <tr>\n",
       "      <td>0</td>\n",
       "      <td>1200</td>\n",
       "      <td>5.800000e-17</td>\n",
       "    </tr>\n",
       "    <tr>\n",
       "      <td>1</td>\n",
       "      <td>1100</td>\n",
       "      <td>5.500000e-18</td>\n",
       "    </tr>\n",
       "    <tr>\n",
       "      <td>2</td>\n",
       "      <td>1250</td>\n",
       "      <td>3.400000e-17</td>\n",
       "    </tr>\n",
       "    <tr>\n",
       "      <td>3</td>\n",
       "      <td>1200</td>\n",
       "      <td>1.800000e-17</td>\n",
       "    </tr>\n",
       "    <tr>\n",
       "      <td>4</td>\n",
       "      <td>1050</td>\n",
       "      <td>3.100000e-18</td>\n",
       "    </tr>\n",
       "    <tr>\n",
       "      <td>5</td>\n",
       "      <td>1300</td>\n",
       "      <td>2.000000e-16</td>\n",
       "    </tr>\n",
       "  </tbody>\n",
       "</table>\n",
       "</div>"
      ],
      "text/plain": [
       "     Tc             D\n",
       "0  1200  5.800000e-17\n",
       "1  1100  5.500000e-18\n",
       "2  1250  3.400000e-17\n",
       "3  1200  1.800000e-17\n",
       "4  1050  3.100000e-18\n",
       "5  1300  2.000000e-16"
      ]
     },
     "execution_count": 14,
     "metadata": {},
     "output_type": "execute_result"
    }
   ],
   "source": [
    "Ddat"
   ]
  },
  {
   "cell_type": "markdown",
   "metadata": {},
   "source": [
    "You can plot up the experimental data as follows:"
   ]
  },
  {
   "cell_type": "code",
   "execution_count": 19,
   "metadata": {},
   "outputs": [
    {
     "data": {
      "image/png": "[encoded data removed]",
      "text/plain": [
       "<Figure size 432x288 with 1 Axes>"
      ]
     },
     "metadata": {
      "needs_background": "light"
     },
     "output_type": "display_data"
    }
   ],
   "source": [
    "ax1 = Ddat.plot.scatter(x='Tc',\n",
    "                      y='D',\n",
    "                      c='DarkBlue') # this uses som in-built plot functions in Pandas"
   ]
  },
  {
   "cell_type": "markdown",
   "metadata": {},
   "source": [
    "You can create new variables from the existing ones as follows - find out more with this useful cheatsheet about [data wrangling](https://pandas.pydata.org/Pandas_Cheat_Sheet.pdf)."
   ]
  },
  {
   "cell_type": "code",
   "execution_count": 34,
   "metadata": {},
   "outputs": [
    {
     "data": {
      "text/html": [
       "<div>\n",
       "<style scoped>\n",
       "    .dataframe tbody tr th:only-of-type {\n",
       "        vertical-align: middle;\n",
       "    }\n",
       "\n",
       "    .dataframe tbody tr th {\n",
       "        vertical-align: top;\n",
       "    }\n",
       "\n",
       "    .dataframe thead th {\n",
       "        text-align: right;\n",
       "    }\n",
       "</style>\n",
       "<table border=\"1\" class=\"dataframe\">\n",
       "  <thead>\n",
       "    <tr style=\"text-align: right;\">\n",
       "      <th></th>\n",
       "      <th>Tc</th>\n",
       "      <th>D</th>\n",
       "      <th>Tk</th>\n",
       "    </tr>\n",
       "  </thead>\n",
       "  <tbody>\n",
       "    <tr>\n",
       "      <td>0</td>\n",
       "      <td>1200</td>\n",
       "      <td>5.800000e-17</td>\n",
       "      <td>1473.15</td>\n",
       "    </tr>\n",
       "    <tr>\n",
       "      <td>1</td>\n",
       "      <td>1100</td>\n",
       "      <td>5.500000e-18</td>\n",
       "      <td>1373.15</td>\n",
       "    </tr>\n",
       "    <tr>\n",
       "      <td>2</td>\n",
       "      <td>1250</td>\n",
       "      <td>3.400000e-17</td>\n",
       "      <td>1523.15</td>\n",
       "    </tr>\n",
       "    <tr>\n",
       "      <td>3</td>\n",
       "      <td>1200</td>\n",
       "      <td>1.800000e-17</td>\n",
       "      <td>1473.15</td>\n",
       "    </tr>\n",
       "    <tr>\n",
       "      <td>4</td>\n",
       "      <td>1050</td>\n",
       "      <td>3.100000e-18</td>\n",
       "      <td>1323.15</td>\n",
       "    </tr>\n",
       "    <tr>\n",
       "      <td>5</td>\n",
       "      <td>1300</td>\n",
       "      <td>2.000000e-16</td>\n",
       "      <td>1573.15</td>\n",
       "    </tr>\n",
       "  </tbody>\n",
       "</table>\n",
       "</div>"
      ],
      "text/plain": [
       "     Tc             D       Tk\n",
       "0  1200  5.800000e-17  1473.15\n",
       "1  1100  5.500000e-18  1373.15\n",
       "2  1250  3.400000e-17  1523.15\n",
       "3  1200  1.800000e-17  1473.15\n",
       "4  1050  3.100000e-18  1323.15\n",
       "5  1300  2.000000e-16  1573.15"
      ]
     },
     "execution_count": 34,
     "metadata": {},
     "output_type": "execute_result"
    }
   ],
   "source": [
    "Ddat = Ddat.assign(\n",
    "    Tk = lambda dataframe: dataframe['Tc'].map(lambda Tc: Tc+273.15) \n",
    ")\n",
    "\n",
    "Ddat # print out below to take a look"
   ]
  },
  {
   "cell_type": "markdown",
   "metadata": {},
   "source": [
    "The scikt-learn package can be used to fit model functions to data. Simple linear regression of diffusion rate as a function of temperature can be done as follows:"
   ]
  },
  {
   "cell_type": "code",
   "execution_count": 26,
   "metadata": {},
   "outputs": [
    {
     "data": {
      "text/plain": [
       "(array([[5.8e-17],\n",
       "        [5.5e-18],\n",
       "        [3.4e-17],\n",
       "        [1.8e-17],\n",
       "        [3.1e-18],\n",
       "        [2.0e-16]]), array([[ 6.30980769e-17],\n",
       "        [ 3.10961538e-18],\n",
       "        [ 9.30923077e-17],\n",
       "        [ 6.30980769e-17],\n",
       "        [-2.68846154e-17],\n",
       "        [ 1.23086538e-16]]))"
      ]
     },
     "execution_count": 26,
     "metadata": {},
     "output_type": "execute_result"
    }
   ],
   "source": [
    "from sklearn.linear_model import LinearRegression\n",
    "\n",
    "X = Ddat.iloc[:, 0].values.reshape(-1, 1)  # values converts it into a numpy array\n",
    "Y = Ddat.iloc[:, 1].values.reshape(-1, 1)  # -1 means that calculate the dimension of rows, but have 1 column\n",
    "linear_regressor = LinearRegression()  # create object for the class\n",
    "linear_regressor.fit(X, Y)  # perform linear regression\n",
    "Y_pred = linear_regressor.predict(X)  # make predictions\n"
   ]
  },
  {
   "cell_type": "code",
   "execution_count": 28,
   "metadata": {},
   "outputs": [
    {
     "data": {
      "image/png": "[encoded data removed]",
      "text/plain": [
       "<Figure size 432x288 with 1 Axes>"
      ]
     },
     "metadata": {
      "needs_background": "light"
     },
     "output_type": "display_data"
    }
   ],
   "source": [
    "plt.scatter(X, Y)\n",
    "plt.plot(X, Y_pred, color='red')\n",
    "plt.show()"
   ]
  },
  {
   "cell_type": "markdown",
   "metadata": {},
   "source": [
    "This does not seem very promising! Don't lose hope though - with a bit of work we can extract something useful.\n",
    "\n",
    "Take a look at the Arrhenius expression for diffusion. You wouldn't predict a linear relationship between $D$ and $T$. However, if you take the natural logarithm of both sides, you should be able to spot a way of finding a linear relationship between $\\ln{D}$ and $1/T$. "
   ]
  },
  {
   "cell_type": "markdown",
   "metadata": {},
   "source": [
    "**Q5) Use this approach, along with the Pandas tricks from above, to estimate the activation energy for Mg-Fe diffusion in olivine.**\n",
    "\n",
    "A5) Hint - make a comparison with the values suggested by Chakraborty to see if you are in the right ball-park.\n"
   ]
  },
  {
   "cell_type": "markdown",
   "metadata": {},
   "source": [
    "The typical uncertainty on olivine-melt equilibration temperatures is $\\pm 20$ degrees C. "
   ]
  },
  {
   "cell_type": "markdown",
   "metadata": {},
   "source": [
    "**Q6) How might this uncertainty translate into uncertainty in diffusion timescales?**\n",
    "\n",
    "A6) Answer here\n",
    "\n",
    "Uncertainty in temperature of the diffusion process is usually the largest source of error in the estimation of timescales. Only in selected, well-understood systems, is it worthwhile considering further sources of uncertainty to better constrain timescales."
   ]
  },
  {
   "cell_type": "code",
   "execution_count": null,
   "metadata": {},
   "outputs": [],
   "source": []
  }
 ],
 "metadata": {
  "jupytext": {
   "cell_metadata_filter": "tags,name,-all",
   "main_language": "R",
   "notebook_metadata_filter": "-all"
  },
  "kernelspec": {
   "display_name": "Python 3",
   "language": "python",
   "name": "python3"
  },
  "language_info": {
   "codemirror_mode": {
    "name": "ipython",
    "version": 3
   },
   "file_extension": ".py",
   "mimetype": "text/x-python",
   "name": "python",
   "nbconvert_exporter": "python",
   "pygments_lexer": "ipython3",
   "version": "3.7.4"
  }
 },
 "nbformat": 4,
 "nbformat_minor": 4
}
